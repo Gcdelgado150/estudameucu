{
 "cells": [
  {
   "cell_type": "markdown",
   "metadata": {},
   "source": [
    "<font size=\"4\">\n",
    "Returns filter coefficients for computing spatial image derivatives.\n",
    "<br><br>\n",
    "The function computes and returns the filter coefficients for spatial image derivatives. When $$ksize=FILTER_{SCHARR},$$ <br>the Scharr 3×3 kernels are generated (see Scharr). Otherwise, Sobel kernels are generated (see Sobel). The filters are normally passed to sepFilter2D or to\n",
    "</font>"
   ]
  },
  {
   "cell_type": "markdown",
   "metadata": {},
   "source": [
    "<font size=\"4\"> **kx, ky\t=\tcv.getDerivKernels(\tdx, dy, ksize[, kx[, ky[, normalize[, ktype]]]])**</font>\n",
    "\n",
    "<br>\n",
    "- dx: derivative in x\n",
    "<br>\n",
    "- dy: derivative in y\n",
    "<br>\n",
    "- ksize: kernel size (cv2.FILTER_SCHARR, 1, 3, 5, 7...)\n",
    "<br>\n",
    "- kx: output of row filter coeff\n",
    "<br>\n",
    "- ky: output of column filter coeff\n",
    "<br>\n",
    "- normalize: If you are going to filter floating-point images, you are likely to use the normalized kernels. But if you compute derivatives of an 8-bit image, store the results in a 16-bit image, and wish to preserve all the fractional bits, you may want to set normalize=false .\n",
    "<br>\n",
    "- ktype: Type of filter coefficients. It can be CV_32f or CV_64F ."
   ]
  },
  {
   "cell_type": "code",
   "execution_count": 1,
   "metadata": {},
   "outputs": [
    {
     "data": {
      "text/html": [
       "<style>.container { width:100% !important; }</style>"
      ],
      "text/plain": [
       "<IPython.core.display.HTML object>"
      ]
     },
     "metadata": {},
     "output_type": "display_data"
    }
   ],
   "source": [
    "from IPython.core.display import display, HTML\n",
    "display(HTML(\"<style>.container { width:100% !important; }</style>\"))\n",
    "import cv2\n",
    "import matplotlib.pyplot as plt\n",
    "\n",
    "image = cv2.imread(\"/home/enacom/TestesVisao/SOURCES/pokemon3d.jpg\")"
   ]
  },
  {
   "cell_type": "markdown",
   "metadata": {},
   "source": [
    "# Smaller size"
   ]
  },
  {
   "cell_type": "code",
   "execution_count": 23,
   "metadata": {},
   "outputs": [
    {
     "data": {
      "text/plain": [
       "(array([[-1.],\n",
       "        [ 0.],\n",
       "        [ 1.]], dtype=float32), array([[ 1.],\n",
       "        [-2.],\n",
       "        [ 1.]], dtype=float32))"
      ]
     },
     "execution_count": 23,
     "metadata": {},
     "output_type": "execute_result"
    }
   ],
   "source": [
    "kx, ky = cv2.getDerivKernels(dx=1, dy=2, ksize=1)\n",
    "kx, ky"
   ]
  },
  {
   "cell_type": "markdown",
   "metadata": {},
   "source": [
    "# Ksize = 3"
   ]
  },
  {
   "cell_type": "code",
   "execution_count": 26,
   "metadata": {},
   "outputs": [
    {
     "data": {
      "text/plain": [
       "(array([[-1.],\n",
       "        [ 0.],\n",
       "        [ 1.]], dtype=float32), array([[ 1.],\n",
       "        [-2.],\n",
       "        [ 1.]], dtype=float32))"
      ]
     },
     "execution_count": 26,
     "metadata": {},
     "output_type": "execute_result"
    }
   ],
   "source": [
    "kx, ky = cv2.getDerivKernels(dx=1, dy=2, ksize=3)\n",
    "kx, ky"
   ]
  },
  {
   "cell_type": "markdown",
   "metadata": {},
   "source": [
    "# Ksize = cv2.FILTER_SCHARR"
   ]
  },
  {
   "cell_type": "code",
   "execution_count": 45,
   "metadata": {},
   "outputs": [
    {
     "name": "stdout",
     "output_type": "stream",
     "text": [
      "0 0\n",
      "Worked with  0 1\n",
      "Worked with  1 0\n",
      "1 1\n"
     ]
    }
   ],
   "source": [
    "dx = [0, 1]\n",
    "dy = [0, 1]\n",
    "for i in dx:\n",
    "    for j in dy:\n",
    "        try:\n",
    "            kx, ky = cv2.getDerivKernels(dx=i, dy=j, ksize=cv2.FILTER_SCHARR)\n",
    "#             print(kx, ky)\n",
    "            print(\"Worked with \", i, j)\n",
    "        except:\n",
    "            print(\"Failed with \", i, j)"
   ]
  },
  {
   "cell_type": "markdown",
   "metadata": {},
   "source": [
    "# Ksize = 5"
   ]
  },
  {
   "cell_type": "code",
   "execution_count": 25,
   "metadata": {},
   "outputs": [
    {
     "data": {
      "text/plain": [
       "(array([[-1.],\n",
       "        [-2.],\n",
       "        [ 0.],\n",
       "        [ 2.],\n",
       "        [ 1.]], dtype=float32), array([[ 1.],\n",
       "        [ 0.],\n",
       "        [-2.],\n",
       "        [ 0.],\n",
       "        [ 1.]], dtype=float32))"
      ]
     },
     "execution_count": 25,
     "metadata": {},
     "output_type": "execute_result"
    }
   ],
   "source": [
    "kx, ky = cv2.getDerivKernels(dx=1, dy=2, ksize=5)\n",
    "kx, ky"
   ]
  },
  {
   "cell_type": "code",
   "execution_count": null,
   "metadata": {},
   "outputs": [],
   "source": [
    "# "
   ]
  }
 ],
 "metadata": {
  "kernelspec": {
   "display_name": "ziegler2",
   "language": "python",
   "name": "ziegler2"
  },
  "language_info": {
   "codemirror_mode": {
    "name": "ipython",
    "version": 3
   },
   "file_extension": ".py",
   "mimetype": "text/x-python",
   "name": "python",
   "nbconvert_exporter": "python",
   "pygments_lexer": "ipython3",
   "version": "3.6.8"
  },
  "toc": {
   "base_numbering": 1,
   "nav_menu": {},
   "number_sections": true,
   "sideBar": true,
   "skip_h1_title": false,
   "title_cell": "Table of Contents",
   "title_sidebar": "Contents",
   "toc_cell": false,
   "toc_position": {},
   "toc_section_display": true,
   "toc_window_display": false
  },
  "varInspector": {
   "cols": {
    "lenName": 16,
    "lenType": 16,
    "lenVar": 40
   },
   "kernels_config": {
    "python": {
     "delete_cmd_postfix": "",
     "delete_cmd_prefix": "del ",
     "library": "var_list.py",
     "varRefreshCmd": "print(var_dic_list())"
    },
    "r": {
     "delete_cmd_postfix": ") ",
     "delete_cmd_prefix": "rm(",
     "library": "var_list.r",
     "varRefreshCmd": "cat(var_dic_list()) "
    }
   },
   "types_to_exclude": [
    "module",
    "function",
    "builtin_function_or_method",
    "instance",
    "_Feature"
   ],
   "window_display": false
  }
 },
 "nbformat": 4,
 "nbformat_minor": 2
}
