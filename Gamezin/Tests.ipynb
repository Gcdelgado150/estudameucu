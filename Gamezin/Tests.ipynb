{
 "cells": [
  {
   "cell_type": "code",
   "execution_count": 80,
   "metadata": {},
   "outputs": [],
   "source": [
    "import numpy as np\n",
    "import matplotlib.pyplot as plt\n",
    "      \n",
    "# def _find_space_on_bag(self):\n",
    "#     for i in range(len(self.bag)):\n",
    "#         item = self.bag[i]\n",
    "#         if item is None:\n",
    "#             return i\n",
    "#     print(\"There is no space left in bag.\")\n",
    "#     return -1\n",
    "# def _check_item_in_inventory(self, i):\n",
    "#     if i in self.bag:\n",
    "#         print(\"Item na bag\")\n",
    "#         return 1\n",
    "#     else:\n",
    "#         print(\"There is no item like this in the bag\")\n",
    "#         return 0\n",
    "# def add_several_items_to_bag(self, items):\n",
    "#     for i in items:\n",
    "#         if isinstance(i, Item) and self._check_bag_limit():\n",
    "#             self.bag.append(i)\n"
   ]
  },
  {
   "cell_type": "code",
   "execution_count": 81,
   "metadata": {},
   "outputs": [],
   "source": [
    "P = Player()"
   ]
  },
  {
   "cell_type": "code",
   "execution_count": 54,
   "metadata": {},
   "outputs": [
    {
     "name": "stdout",
     "output_type": "stream",
     "text": [
      "Added Spear0 to the bag\n",
      "Added Spear1 to the bag\n",
      "Added Spear2 to the bag\n",
      "Added Spear3 to the bag\n",
      "Added Spear4 to the bag\n",
      "Added Bag to the bag\n",
      "Item na bag\n",
      "Remove idx 10 from bag\n",
      "Inventory Spear0\n",
      "Inventory Spear1\n",
      "Inventory Spear2\n",
      "Inventory Spear3\n",
      "Inventory Spear4\n",
      "Inventory Spear0\n",
      "Inventory Spear1\n",
      "Inventory Spear2\n",
      "Inventory Spear3\n",
      "Inventory Spear4\n",
      "Vazio\n",
      "Vazio\n",
      "Vazio\n",
      "Vazio\n",
      "Vazio\n",
      "Vazio\n",
      "Vazio\n",
      "Vazio\n",
      "Vazio\n",
      "Vazio\n"
     ]
    }
   ],
   "source": [
    "\n",
    "counter = 0\n",
    "while counter < 5:\n",
    "    I = Item(\"Primary\", name=\"Spear{}\".format(counter))\n",
    "    P.add_item_to_bag(I)\n",
    "    counter += 1\n",
    "\n",
    "B = Item(\"Secondary\", name=\"Bag\")\n",
    "P.add_item_to_bag(B)\n",
    "P.add_item_from_bag_to_inventory(B)\n",
    "P._get_bag()\n",
    "# print(P._get_secondary_weapon()._get_name())"
   ]
  },
  {
   "cell_type": "code",
   "execution_count": 55,
   "metadata": {},
   "outputs": [
    {
     "name": "stdout",
     "output_type": "stream",
     "text": [
      "Inventory Spear0\n",
      "Inventory Spear1\n",
      "Inventory Spear2\n",
      "Inventory Spear3\n",
      "Inventory Spear4\n",
      "Inventory Spear0\n",
      "Inventory Spear1\n",
      "Inventory Spear2\n",
      "Inventory Spear3\n",
      "Inventory Spear4\n",
      "Vazio\n",
      "Vazio\n",
      "Vazio\n",
      "Vazio\n",
      "Vazio\n",
      "Vazio\n",
      "Vazio\n",
      "Vazio\n",
      "Vazio\n",
      "Vazio\n"
     ]
    }
   ],
   "source": [
    "P._get_bag()"
   ]
  },
  {
   "cell_type": "markdown",
   "metadata": {},
   "source": [
    "# Test experience map"
   ]
  },
  {
   "cell_type": "markdown",
   "metadata": {},
   "source": [
    "## Some combinations of multiplier"
   ]
  },
  {
   "cell_type": "code",
   "execution_count": 62,
   "metadata": {},
   "outputs": [],
   "source": [
    "multiplier = [i for i in np.arange(1, 5, 0.3)] + [i for i in np.arange(5, 3, -0.3)] + [i for i in np.arange(3, 1, -0.1)] "
   ]
  },
  {
   "cell_type": "code",
   "execution_count": 114,
   "metadata": {},
   "outputs": [],
   "source": [
    "multiplier = [3]*10 + [2]*10 + [1.4]*10 + [1.2]*30 + [1.1]*30 + [1.02]*9"
   ]
  },
  {
   "cell_type": "markdown",
   "metadata": {},
   "source": [
    "## Map creation"
   ]
  },
  {
   "cell_type": "code",
   "execution_count": 115,
   "metadata": {},
   "outputs": [],
   "source": [
    "exp = 10\n",
    "map_exp = {}\n",
    "for i in range(len(multiplier)):\n",
    "    if i == 0:\n",
    "        map_exp[str(i+2)] = int(multiplier[i]*exp)\n",
    "    else:\n",
    "        map_exp[str(i+2)] = int(multiplier[i]*map_exp[str(i+1)])"
   ]
  },
  {
   "cell_type": "code",
   "execution_count": 116,
   "metadata": {},
   "outputs": [
    {
     "data": {
      "text/plain": [
       "{'2': 30,\n",
       " '3': 90,\n",
       " '4': 270,\n",
       " '5': 810,\n",
       " '6': 2430,\n",
       " '7': 7290,\n",
       " '8': 21870,\n",
       " '9': 65610,\n",
       " '10': 196830,\n",
       " '11': 590490,\n",
       " '12': 1180980,\n",
       " '13': 2361960,\n",
       " '14': 4723920,\n",
       " '15': 9447840,\n",
       " '16': 18895680,\n",
       " '17': 37791360,\n",
       " '18': 75582720,\n",
       " '19': 151165440,\n",
       " '20': 302330880,\n",
       " '21': 604661760,\n",
       " '22': 846526464,\n",
       " '23': 1185137049,\n",
       " '24': 1659191868,\n",
       " '25': 2322868615,\n",
       " '26': 3252016061,\n",
       " '27': 4552822485,\n",
       " '28': 6373951479,\n",
       " '29': 8923532070,\n",
       " '30': 12492944898,\n",
       " '31': 17490122857,\n",
       " '32': 20988147428,\n",
       " '33': 25185776913,\n",
       " '34': 30222932295,\n",
       " '35': 36267518754,\n",
       " '36': 43521022504,\n",
       " '37': 52225227004,\n",
       " '38': 62670272404,\n",
       " '39': 75204326884,\n",
       " '40': 90245192260,\n",
       " '41': 108294230712,\n",
       " '42': 129953076854,\n",
       " '43': 155943692224,\n",
       " '44': 187132430668,\n",
       " '45': 224558916801,\n",
       " '46': 269470700161,\n",
       " '47': 323364840193,\n",
       " '48': 388037808231,\n",
       " '49': 465645369877,\n",
       " '50': 558774443852,\n",
       " '51': 670529332622,\n",
       " '52': 804635199146,\n",
       " '53': 965562238975,\n",
       " '54': 1158674686770,\n",
       " '55': 1390409624124,\n",
       " '56': 1668491548948,\n",
       " '57': 2002189858737,\n",
       " '58': 2402627830484,\n",
       " '59': 2883153396580,\n",
       " '60': 3459784075896,\n",
       " '61': 4151740891075,\n",
       " '62': 4566914980182,\n",
       " '63': 5023606478200,\n",
       " '64': 5525967126020,\n",
       " '65': 6078563838622,\n",
       " '66': 6686420222484,\n",
       " '67': 7355062244732,\n",
       " '68': 8090568469205,\n",
       " '69': 8899625316125,\n",
       " '70': 9789587847737,\n",
       " '71': 10768546632510,\n",
       " '72': 11845401295761,\n",
       " '73': 13029941425337,\n",
       " '74': 14332935567870,\n",
       " '75': 15766229124657,\n",
       " '76': 17342852037122,\n",
       " '77': 19077137240834,\n",
       " '78': 20984850964917,\n",
       " '79': 23083336061408,\n",
       " '80': 25391669667548,\n",
       " '81': 27930836634302,\n",
       " '82': 30723920297732,\n",
       " '83': 33796312327505,\n",
       " '84': 37175943560255,\n",
       " '85': 40893537916280,\n",
       " '86': 44982891707908,\n",
       " '87': 49481180878698,\n",
       " '88': 54429298966567,\n",
       " '89': 59872228863223,\n",
       " '90': 65859451749545,\n",
       " '91': 72445396924499,\n",
       " '92': 73894304862988,\n",
       " '93': 75372190960247,\n",
       " '94': 76879634779451,\n",
       " '95': 78417227475040,\n",
       " '96': 79985572024540,\n",
       " '97': 81585283465030,\n",
       " '98': 83216989134330,\n",
       " '99': 84881328917016,\n",
       " '100': 86578955495356}"
      ]
     },
     "execution_count": 116,
     "metadata": {},
     "output_type": "execute_result"
    }
   ],
   "source": [
    "map_exp"
   ]
  },
  {
   "cell_type": "markdown",
   "metadata": {},
   "source": [
    "## Check increment per level"
   ]
  },
  {
   "cell_type": "code",
   "execution_count": 117,
   "metadata": {},
   "outputs": [
    {
     "data": {
      "text/plain": [
       "[<matplotlib.lines.Line2D at 0x7fba23871f28>]"
      ]
     },
     "execution_count": 117,
     "metadata": {},
     "output_type": "execute_result"
    },
    {
     "data": {
      "image/png": "[encoded data removed]",
      "text/plain": [
       "<Figure size 432x288 with 1 Axes>"
      ]
     },
     "metadata": {
      "needs_background": "light"
     },
     "output_type": "display_data"
    }
   ],
   "source": [
    "all_valor = []\n",
    "for k in map_exp:\n",
    "    if int(k) > 2:\n",
    "        valor = map_exp[k] - map_exp[str(int(k)-1)]\n",
    "        all_valor.append(valor)\n",
    "\n",
    "plt.plot(all_valor[:100])"
   ]
  },
  {
   "cell_type": "markdown",
   "metadata": {},
   "source": [
    "## Check general increment"
   ]
  },
  {
   "cell_type": "code",
   "execution_count": 118,
   "metadata": {},
   "outputs": [
    {
     "data": {
      "text/plain": [
       "[<matplotlib.lines.Line2D at 0x7fba237dc198>]"
      ]
     },
     "execution_count": 118,
     "metadata": {},
     "output_type": "execute_result"
    },
    {
     "data": {
      "image/png": "[encoded data removed]",
      "text/plain": [
       "<Figure size 432x288 with 1 Axes>"
      ]
     },
     "metadata": {
      "needs_background": "light"
     },
     "output_type": "display_data"
    }
   ],
   "source": [
    "all_valor = []\n",
    "for k in map_exp:\n",
    "    valor = map_exp[k]\n",
    "    all_valor.append(valor)\n",
    "\n",
    "plt.plot(all_valor[:100])"
   ]
  },
  {
   "cell_type": "markdown",
   "metadata": {},
   "source": [
    "# Test verification on dict"
   ]
  },
  {
   "cell_type": "code",
   "execution_count": 2,
   "metadata": {},
   "outputs": [],
   "source": [
    "dicto = {\"Primary\": \"self.primary_weapon\",\n",
    "              \"Secondary\": \"self.secondary_weapon\", \n",
    "              \"Hat\": \"self.hat\", \n",
    "              \"Breastplate\": \"self.breastplate\", \n",
    "              \"Legs\": \"self.legs\", \n",
    "              \"Shoes\": \"self.shoes\"\n",
    "              }"
   ]
  },
  {
   "cell_type": "code",
   "execution_count": 4,
   "metadata": {},
   "outputs": [],
   "source": []
  },
  {
   "cell_type": "code",
   "execution_count": 8,
   "metadata": {},
   "outputs": [],
   "source": [
    "if \"Sheos\" in dicto:\n",
    "    dicto[\"Sheos\"] = \"2\""
   ]
  },
  {
   "cell_type": "code",
   "execution_count": 9,
   "metadata": {},
   "outputs": [
    {
     "data": {
      "text/plain": [
       "{'Primary': '2',\n",
       " 'Secondary': 'self.secondary_weapon',\n",
       " 'Hat': 'self.hat',\n",
       " 'Breastplate': 'self.breastplate',\n",
       " 'Legs': 'self.legs',\n",
       " 'Shoes': 'self.shoes'}"
      ]
     },
     "execution_count": 9,
     "metadata": {},
     "output_type": "execute_result"
    }
   ],
   "source": [
    "dicto"
   ]
  },
  {
   "cell_type": "markdown",
   "metadata": {},
   "source": [
    "# Testes random"
   ]
  },
  {
   "cell_type": "code",
   "execution_count": 1,
   "metadata": {},
   "outputs": [],
   "source": [
    "a = [[0,1,2,3,4],[1,0,1,2, 3], [1,2,0,1,2],[1,2,3,4, 0]]"
   ]
  },
  {
   "cell_type": "code",
   "execution_count": null,
   "metadata": {},
   "outputs": [],
   "source": []
  },
  {
   "cell_type": "code",
   "execution_count": 6,
   "metadata": {},
   "outputs": [
    {
     "name": "stdout",
     "output_type": "stream",
     "text": [
      "[0, 1, 2, 3, 4]\n",
      "[0, 1, 2, 3]\n",
      "[0, 1, 2]\n"
     ]
    }
   ],
   "source": [
    "for i in range(len(a)-1):\n",
    "        print(a[i][i:])"
   ]
  },
  {
   "cell_type": "code",
   "execution_count": 2,
   "metadata": {},
   "outputs": [
    {
     "data": {
      "text/plain": [
       "(0, 1, 0, 1, 1, 1)"
      ]
     },
     "execution_count": 2,
     "metadata": {},
     "output_type": "execute_result"
    }
   ],
   "source": [
    "state"
   ]
  },
  {
   "cell_type": "code",
   "execution_count": 10,
   "metadata": {},
   "outputs": [
    {
     "data": {
      "text/plain": [
       "([0, 1, 0], [1, 1, 1])"
      ]
     },
     "execution_count": 10,
     "metadata": {},
     "output_type": "execute_result"
    }
   ],
   "source": [
    "state = [0,1,0,1,1,1]\n",
    "# state = tuple(state)\n",
    "left = state[0:3]\n",
    "right = state[3:6]\n",
    "\n",
    "left, right"
   ]
  },
  {
   "cell_type": "code",
   "execution_count": 7,
   "metadata": {},
   "outputs": [
    {
     "name": "stdout",
     "output_type": "stream",
     "text": [
      "move left\n",
      "move right\n",
      "move left\n"
     ]
    }
   ],
   "source": [
    "for i in range(3):\n",
    "    # Get First action\n",
    "    if left[i]:\n",
    "        print(\"move right\")\n",
    "    elif right[i]:\n",
    "        print(\"move left\")\n",
    "    else:\n",
    "        print(\"move any\")"
   ]
  },
  {
   "cell_type": "code",
   "execution_count": null,
   "metadata": {},
   "outputs": [],
   "source": []
  }
 ],
 "metadata": {
  "kernelspec": {
   "display_name": "ziegler2",
   "language": "python",
   "name": "ziegler2"
  },
  "language_info": {
   "codemirror_mode": {
    "name": "ipython",
    "version": 3
   },
   "file_extension": ".py",
   "mimetype": "text/x-python",
   "name": "python",
   "nbconvert_exporter": "python",
   "pygments_lexer": "ipython3",
   "version": "3.6.8"
  },
  "toc": {
   "base_numbering": 1,
   "nav_menu": {},
   "number_sections": true,
   "sideBar": true,
   "skip_h1_title": false,
   "title_cell": "Table of Contents",
   "title_sidebar": "Contents",
   "toc_cell": false,
   "toc_position": {},
   "toc_section_display": true,
   "toc_window_display": false
  },
  "varInspector": {
   "cols": {
    "lenName": 16,
    "lenType": 16,
    "lenVar": 40
   },
   "kernels_config": {
    "python": {
     "delete_cmd_postfix": "",
     "delete_cmd_prefix": "del ",
     "library": "var_list.py",
     "varRefreshCmd": "print(var_dic_list())"
    },
    "r": {
     "delete_cmd_postfix": ") ",
     "delete_cmd_prefix": "rm(",
     "library": "var_list.r",
     "varRefreshCmd": "cat(var_dic_list()) "
    }
   },
   "types_to_exclude": [
    "module",
    "function",
    "builtin_function_or_method",
    "instance",
    "_Feature"
   ],
   "window_display": false
  }
 },
 "nbformat": 4,
 "nbformat_minor": 2
}
