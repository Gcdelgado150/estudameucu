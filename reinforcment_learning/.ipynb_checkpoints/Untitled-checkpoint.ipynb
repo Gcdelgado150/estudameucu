{
 "cells": [
  {
   "cell_type": "code",
   "execution_count": 2,
   "metadata": {},
   "outputs": [
    {
     "name": "stdout",
     "output_type": "stream",
     "text": [
      "['Right', 'Right', 'Right']\n",
      "['Right', 'Right', 'Left']\n",
      "['Right', 'Left', 'Right']\n",
      "['Left', 'Right', 'Left']\n",
      "['Right', 'Left', 'Right']\n",
      "['Left', 'Right', 'Left']\n",
      "['Right', 'Left', 'Right']\n",
      "['Left', 'Right', 'Left']\n",
      "['Right', 'Left', 'Right']\n",
      "['Left', 'Right', 'Left']\n"
     ]
    }
   ],
   "source": [
    "last_moves = [\"Right\", \"Right\", \"Right\"]\n",
    "c = 0\n",
    "while c < 10:\n",
    "    print(last_moves)\n",
    "    a = last_moves.pop(0)\n",
    "    \n",
    "    if c % 2 == 0:\n",
    "        last_moves.append(\"Left\")\n",
    "    else:\n",
    "        last_moves.append(\"Right\")\n",
    "    c += 1"
   ]
  },
  {
   "cell_type": "code",
   "execution_count": 38,
   "metadata": {},
   "outputs": [
    {
     "data": {
      "image/png": "[encoded data removed]",
      "text/plain": [
       "<Figure size 432x288 with 1 Axes>"
      ]
     },
     "metadata": {
      "needs_background": "light"
     },
     "output_type": "display_data"
    }
   ],
   "source": [
    "import matplotlib.pyplot as plt\n",
    "sleep = 0.2\n",
    "decay = 0.9996\n",
    "\n",
    "all_sleeps = []\n",
    "\n",
    "for i in range(10000):\n",
    "    all_sleeps.append(sleep)\n",
    "    sleep *= decay\n",
    "\n",
    "    \n",
    "plt.plot(all_sleeps)\n",
    "plt.show()\n",
    "plt.savefig(\"fig.png\")"
   ]
  },
  {
   "cell_type": "code",
   "execution_count": null,
   "metadata": {},
   "outputs": [],
   "source": []
  }
 ],
 "metadata": {
  "kernelspec": {
   "display_name": "cv",
   "language": "python",
   "name": "cv"
  },
  "language_info": {
   "codemirror_mode": {
    "name": "ipython",
    "version": 3
   },
   "file_extension": ".py",
   "mimetype": "text/x-python",
   "name": "python",
   "nbconvert_exporter": "python",
   "pygments_lexer": "ipython3",
   "version": "3.6.5"
  },
  "toc": {
   "base_numbering": 1,
   "nav_menu": {},
   "number_sections": true,
   "sideBar": true,
   "skip_h1_title": false,
   "title_cell": "Table of Contents",
   "title_sidebar": "Contents",
   "toc_cell": false,
   "toc_position": {},
   "toc_section_display": true,
   "toc_window_display": false
  },
  "varInspector": {
   "cols": {
    "lenName": 16,
    "lenType": 16,
    "lenVar": 40
   },
   "kernels_config": {
    "python": {
     "delete_cmd_postfix": "",
     "delete_cmd_prefix": "del ",
     "library": "var_list.py",
     "varRefreshCmd": "print(var_dic_list())"
    },
    "r": {
     "delete_cmd_postfix": ") ",
     "delete_cmd_prefix": "rm(",
     "library": "var_list.r",
     "varRefreshCmd": "cat(var_dic_list()) "
    }
   },
   "types_to_exclude": [
    "module",
    "function",
    "builtin_function_or_method",
    "instance",
    "_Feature"
   ],
   "window_display": false
  }
 },
 "nbformat": 4,
 "nbformat_minor": 2
}
